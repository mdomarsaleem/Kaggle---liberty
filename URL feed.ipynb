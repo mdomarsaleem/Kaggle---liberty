{
 "cells": [
  {
   "cell_type": "code",
   "execution_count": 38,
   "metadata": {
    "collapsed": false
   },
   "outputs": [],
   "source": [
    "import sys\n",
    "import cv2\n",
    "import urllib2\n",
    "import numpy as np\n",
    "import scipy.misc\n",
    "import os\n",
    "import time\n",
    "os.chdir(\"C:/Users/Omar Saleem Mohammed/Downloads/\")\n",
    "import uuid\n",
    "\n",
    "\n",
    "face_cascade = cv2.CascadeClassifier('C:/Users/Omar Saleem Mohammed/Downloads/DoNotBackup/opencv/sources/data/haarcascades/haarcascade_frontalface_default.xml')\n",
    "#video_capture = cv2.VideoCapture(0)\n",
    "\n",
    "url = 'http://192.168.100.152:8081/'\n",
    "\n",
    "#stream = urllib2.urlopen(\"http://156.107.105.200/axis-cgi/mjpg/video.cgi?resolution=1280x800\")\n",
    "\n",
    "stream = urllib2.urlopen(url)\n",
    "maxcount = 2\n",
    "firstframe = None\n",
    "threshold_area = 1000\n",
    "y_offset = 120\n",
    "x_offset = 550\n",
    "\n",
    "bytes=''"
   ]
  },
  {
   "cell_type": "code",
   "execution_count": 31,
   "metadata": {
    "collapsed": false
   },
   "outputs": [],
   "source": [
    "url = 'http://192.168.100.152:8081/'\n",
    "username = 'pi'\n",
    "password = 'raspberry'\n",
    "password_mgr = urllib2.HTTPPasswordMgrWithDefaultRealm()\n",
    "password_mgr.add_password(None, url, username, password)\n",
    "\n",
    "auth_handler = urllib2.HTTPBasicAuthHandler(password_mgr)\n",
    "#auth_handler = urllib2.HTTPDigestAuthHandler(password_mgr)\n",
    "opener = urllib2.build_opener(auth_handler)\n",
    "urllib2.install_opener(opener)\n",
    "\n",
    "#stream = urllib2.urlopen(\"http://156.107.105.200/axis-cgi/mjpg/video.cgi?resolution=1280x800\")\n",
    "\n",
    "stream = urllib2.urlopen(url)\n",
    "#stream = urllib2.urlopen(url).read()\n",
    "maxcount = 2\n",
    "firstframe = None\n",
    "threshold_area = 1000\n",
    "y_offset = 120\n",
    "x_offset = 550\n",
    "\n",
    "bytes=''"
   ]
  },
  {
   "cell_type": "code",
   "execution_count": 40,
   "metadata": {
    "collapsed": false
   },
   "outputs": [],
   "source": [
    "while(1):\n",
    "    bytes+=stream.read(10240)\n",
    "    a = bytes.find('\\xff\\xd8')\n",
    "    b = bytes.find('\\xff\\xd9')\n",
    "    if a!=-1 and b!=-1:\n",
    "        jpg = bytes[a:b+2]\n",
    "        bytes= bytes[b+2:]\n",
    "        i = cv2.imdecode(np.fromstring(jpg, dtype=np.uint8),cv2.CV_16S)\n",
    "        gray = cv2.cvtColor(i, cv2.COLOR_BGR2GRAY)\n",
    "        gray = cv2.equalizeHist(gray)\n",
    "        faces = face_cascade.detectMultiScale(\n",
    "        gray,\n",
    "        scaleFactor=1.1,\n",
    "        minNeighbors=5,\n",
    "        minSize=(30, 30)\n",
    "    ) \n",
    "        if len(faces)>0:    \n",
    "            for (x, y, w, h) in faces:\n",
    "                fac = np.array(i)[y:(y+h),x:(x+h),:]            \n",
    "                cv2.rectangle(i, (x, y), (x+h, y+w), (0, 255, 0), 2)\n",
    "            #cv2.putText(frame,'omar',(x,y+h), cv2.FONT_HERSHEY_DUPLEX,1,(0,0,255), 2,8)            \n",
    "                scipy.misc.toimage(cv2.cvtColor(fac, cv2.COLOR_RGB2BGR)).save(str(uuid.uuid4()) +'.jpg')\n",
    "        #print(gray.shape)\n",
    "        cv2.imshow('video',i)\n",
    "    \n",
    "    k = cv2.waitKey(1) & 0xff\n",
    "    if k == ord(\"q\"):\n",
    "        break\n",
    "\n",
    "cv2.destroyAllWindows()"
   ]
  },
  {
   "cell_type": "code",
   "execution_count": null,
   "metadata": {
    "collapsed": true
   },
   "outputs": [],
   "source": []
  }
 ],
 "metadata": {
  "kernelspec": {
   "display_name": "Python 2",
   "language": "python",
   "name": "python2"
  },
  "language_info": {
   "codemirror_mode": {
    "name": "ipython",
    "version": 2
   },
   "file_extension": ".py",
   "mimetype": "text/x-python",
   "name": "python",
   "nbconvert_exporter": "python",
   "pygments_lexer": "ipython2",
   "version": "2.7.12"
  }
 },
 "nbformat": 4,
 "nbformat_minor": 0
}
