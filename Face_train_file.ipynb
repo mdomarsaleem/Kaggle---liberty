{
 "cells": [
  {
   "cell_type": "code",
   "execution_count": 35,
   "metadata": {
    "collapsed": false
   },
   "outputs": [
    {
     "data": {
      "text/plain": [
       "'C:\\\\Users\\\\Omar Saleem Mohammed\\\\Downloads\\\\Complete Face Data'"
      ]
     },
     "execution_count": 35,
     "metadata": {},
     "output_type": "execute_result"
    }
   ],
   "source": [
    "import os,sys,re\n",
    "import numpy as np\n",
    "from sklearn.cross_validation import train_test_split\n",
    "os.chdir(\"C:/Users/Omar Saleem Mohammed/Downloads/Complete Face Data\")\n",
    "os.getcwd()"
   ]
  },
  {
   "cell_type": "code",
   "execution_count": 36,
   "metadata": {
    "collapsed": false
   },
   "outputs": [],
   "source": [
    "#directs = os.listdir('K:/COMMON/face onn/')\n",
    "all_images = []\n",
    "subject = []\n",
    "directs = os.listdir(\"C:/Users/Omar Saleem Mohammed/Downloads/Complete Face Data\")\n",
    "for dir in directs:\n",
    "    files = os.listdir(\"C:/Users/Omar Saleem Mohammed/Downloads/Complete Face Data/\"+dir)\n",
    "    os.chdir(\"C:/Users/Omar Saleem Mohammed/Downloads/Complete Face Data/\"+dir)\n",
    "    for i in files:\n",
    "        all_images = np.append(all_images,(\"C:/Users/Omar Saleem Mohammed/Downloads/Complete Face Data/\"+dir+'/'+i))\n",
    "        subject = np.append(subject,dir)"
   ]
  },
  {
   "cell_type": "code",
   "execution_count": 37,
   "metadata": {
    "collapsed": false
   },
   "outputs": [
    {
     "data": {
      "text/plain": [
       "(5523L, 2L)"
      ]
     },
     "execution_count": 37,
     "metadata": {},
     "output_type": "execute_result"
    }
   ],
   "source": [
    "data = np.array(zip(all_images,subject))\n",
    "data = data.astype(str)\n",
    "data.shape"
   ]
  },
  {
   "cell_type": "code",
   "execution_count": 38,
   "metadata": {
    "collapsed": false
   },
   "outputs": [
    {
     "data": {
      "text/plain": [
       "{'0P': 153,\n",
       " '0SANKARNARAYANAN S': 152,\n",
       " 'Abhinav': 556,\n",
       " 'Anirban Das': 45,\n",
       " 'Aparna Ram': 42,\n",
       " 'Arun Dhanapal': 408,\n",
       " 'Bhavya Prakash': 415,\n",
       " 'Chandra': 261,\n",
       " 'Dhruva Murari': 35,\n",
       " 'Gokul': 393,\n",
       " 'K Ganesh': 145,\n",
       " 'Kinkar': 405,\n",
       " 'MANASA S': 63,\n",
       " 'Maheshwar Muralidharan': 129,\n",
       " 'Omar': 1064,\n",
       " 'Ponraj S': 4,\n",
       " 'Praba': 103,\n",
       " 'Raghuvar Choppakatla': 105,\n",
       " 'Selva Chellaiah': 32,\n",
       " 'Sharath': 58,\n",
       " 'Surekha Nyapati': 24,\n",
       " 'Varun Vijay': 21,\n",
       " 'Vigneshwaran': 165,\n",
       " 'unknown 1': 273,\n",
       " 'unknown 2': 219,\n",
       " 'unknown 3': 43,\n",
       " 'unknown 4': 42,\n",
       " 'unknown 5': 39,\n",
       " 'unknown 6': 60,\n",
       " 'unknown 7': 12,\n",
       " 'unknown 8': 25,\n",
       " 'unknown 9': 32}"
      ]
     },
     "execution_count": 38,
     "metadata": {},
     "output_type": "execute_result"
    }
   ],
   "source": [
    "unique, counts = np.unique(subject, return_counts=True)\n",
    "dict(zip(unique, counts))"
   ]
  },
  {
   "cell_type": "code",
   "execution_count": 39,
   "metadata": {
    "collapsed": false
   },
   "outputs": [],
   "source": [
    "train , test = train_test_split(data, test_size=0.25, random_state=42,stratify=subject)"
   ]
  },
  {
   "cell_type": "code",
   "execution_count": 40,
   "metadata": {
    "collapsed": true
   },
   "outputs": [],
   "source": [
    "os.chdir(\"C:/Users/Omar Saleem Mohammed/Downloads/Complete Face Data\")\n",
    "np.savetxt(\"test.csv\", test, delimiter=\",\",header='file,subject',fmt='%s')\n",
    "np.savetxt(\"train.csv\", train, delimiter=\",\",header=\"file,subject\",fmt='%s')"
   ]
  },
  {
   "cell_type": "code",
   "execution_count": null,
   "metadata": {
    "collapsed": true
   },
   "outputs": [],
   "source": []
  }
 ],
 "metadata": {
  "kernelspec": {
   "display_name": "Python 2",
   "language": "python",
   "name": "python2"
  },
  "language_info": {
   "codemirror_mode": {
    "name": "ipython",
    "version": 2
   },
   "file_extension": ".py",
   "mimetype": "text/x-python",
   "name": "python",
   "nbconvert_exporter": "python",
   "pygments_lexer": "ipython2",
   "version": "2.7.12"
  }
 },
 "nbformat": 4,
 "nbformat_minor": 0
}
